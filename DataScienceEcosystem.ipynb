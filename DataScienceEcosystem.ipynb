{
 "cells": [
  {
   "cell_type": "markdown",
   "id": "b1f47e60-e299-41d7-9c81-da710d51c605",
   "metadata": {},
   "source": [
    "# Data Science tools and Ecosystem"
   ]
  },
  {
   "cell_type": "markdown",
   "id": "dda13206-9bbd-45f6-9aa4-69ecbda09365",
   "metadata": {},
   "source": [
    "## In this notebook, Data Science Tools and Ecosystem are summarized."
   ]
  },
  {
   "cell_type": "markdown",
   "id": "27a9dd33-a7cb-4d68-92cc-e6ba7797927d",
   "metadata": {},
   "source": [
    "## **Objectives:**\n",
    "\n",
    "+ Popular data science languages used\n",
    "+ commonly used libraries by data scientists\n",
    "+ data science tools that will be used\n",
    "+ basic arithmetic expressions and python skills"
   ]
  },
  {
   "cell_type": "markdown",
   "id": "ff08cfcd-f53d-4485-84b6-b016cb2e000a",
   "metadata": {},
   "source": [
    "### Some of the popular languages Data Scientists use are:\n",
    "1. Python\n",
    "2. R\n",
    "3. SQL\n",
    "4. Java"
   ]
  },
  {
   "cell_type": "markdown",
   "id": "fa806e18-0b40-4789-847b-f402ca89edac",
   "metadata": {},
   "source": [
    "### Some of the most commonly used libraries by Data Scientists include:\n",
    "\n",
    "1. matplotlib - plotting charts\n",
    "2. pandas\n",
    "3. numpy"
   ]
  },
  {
   "cell_type": "markdown",
   "id": "d08dcba9-a1f2-4737-b3c6-71cdf2572252",
   "metadata": {},
   "source": [
    "|Data Science Tools|\n",
    "|------------------|\n",
    "|VS-Code|\n",
    "|Anaconda|\n",
    "|RStudio|"
   ]
  },
  {
   "cell_type": "markdown",
   "id": "4290dfc6-1c26-4e1b-a3cd-736375a5c617",
   "metadata": {},
   "source": [
    "### Below are a few examples of evaluating arithmetic expressions in Python.\n",
    "\n",
    "+ (+)\n",
    "+ (-)\n",
    "+ (*)\n",
    "+ (/)"
   ]
  },
  {
   "cell_type": "code",
   "execution_count": 1,
   "id": "4387b983-00f1-40b7-b71e-ee3a9be7b2f4",
   "metadata": {},
   "outputs": [
    {
     "data": {
      "text/plain": [
       "17"
      ]
     },
     "execution_count": 1,
     "metadata": {},
     "output_type": "execute_result"
    }
   ],
   "source": [
    "# This a simple arithmetic expression to mulitply then add integers. \n",
    "(3*4) + 5"
   ]
  },
  {
   "cell_type": "code",
   "execution_count": 2,
   "id": "601e6d61-6392-441c-b737-42177bafc4c3",
   "metadata": {},
   "outputs": [
    {
     "data": {
      "text/plain": [
       "3.3333333333333335"
      ]
     },
     "execution_count": 2,
     "metadata": {},
     "output_type": "execute_result"
    }
   ],
   "source": [
    "# This will convert 200 minutes to hours by dividing by 60.\n",
    "200/60"
   ]
  },
  {
   "cell_type": "markdown",
   "id": "d65bb7ad-26d8-4341-b9de-7d4544363747",
   "metadata": {},
   "source": [
    "## Author:\n",
    "Mahi Nuthanapati"
   ]
  }
 ],
 "metadata": {
  "kernelspec": {
   "display_name": "Python 3 (ipykernel)",
   "language": "python",
   "name": "python3"
  },
  "language_info": {
   "codemirror_mode": {
    "name": "ipython",
    "version": 3
   },
   "file_extension": ".py",
   "mimetype": "text/x-python",
   "name": "python",
   "nbconvert_exporter": "python",
   "pygments_lexer": "ipython3",
   "version": "3.9.13"
  }
 },
 "nbformat": 4,
 "nbformat_minor": 5
}
